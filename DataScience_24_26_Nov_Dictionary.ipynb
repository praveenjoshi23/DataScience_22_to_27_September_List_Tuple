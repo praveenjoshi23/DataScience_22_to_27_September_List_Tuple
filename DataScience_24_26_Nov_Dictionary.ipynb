{
 "cells": [
  {
   "cell_type": "code",
   "execution_count": 1,
   "id": "7c7741fa",
   "metadata": {},
   "outputs": [],
   "source": [
    "d={}"
   ]
  },
  {
   "cell_type": "code",
   "execution_count": 2,
   "id": "ac3d0d20",
   "metadata": {},
   "outputs": [
    {
     "data": {
      "text/plain": [
       "dict"
      ]
     },
     "execution_count": 2,
     "metadata": {},
     "output_type": "execute_result"
    }
   ],
   "source": [
    "type(d)"
   ]
  },
  {
   "cell_type": "code",
   "execution_count": 3,
   "id": "d0a928c0",
   "metadata": {},
   "outputs": [],
   "source": [
    "dic={\"name\":\"praveen\", \"age\":\"29\"}"
   ]
  },
  {
   "cell_type": "code",
   "execution_count": 4,
   "id": "c717933c",
   "metadata": {},
   "outputs": [
    {
     "name": "stdout",
     "output_type": "stream",
     "text": [
      "<built-in method keys of dict object at 0x000002485A537E80>\n"
     ]
    }
   ],
   "source": [
    "print(dic.keys)"
   ]
  },
  {
   "cell_type": "code",
   "execution_count": 5,
   "id": "151e1517",
   "metadata": {},
   "outputs": [
    {
     "data": {
      "text/plain": [
       "'praveen'"
      ]
     },
     "execution_count": 5,
     "metadata": {},
     "output_type": "execute_result"
    }
   ],
   "source": [
    "dic[\"name\"]"
   ]
  },
  {
   "cell_type": "code",
   "execution_count": 6,
   "id": "6cfff3fc",
   "metadata": {},
   "outputs": [],
   "source": [
    "dic={\"name\":\"praveen\", \"age\":\"29\",\"name\":\"joshi\"}"
   ]
  },
  {
   "cell_type": "code",
   "execution_count": 7,
   "id": "2f1b5e49",
   "metadata": {},
   "outputs": [
    {
     "data": {
      "text/plain": [
       "'joshi'"
      ]
     },
     "execution_count": 7,
     "metadata": {},
     "output_type": "execute_result"
    }
   ],
   "source": [
    "dic[\"name\"]"
   ]
  },
  {
   "cell_type": "code",
   "execution_count": 8,
   "id": "7005bc9b",
   "metadata": {},
   "outputs": [],
   "source": [
    "assign={\"class\":\"BCA_1\",\"Subjct\":[\"maths\",\"Science\"]}"
   ]
  },
  {
   "cell_type": "code",
   "execution_count": 9,
   "id": "e68d46fc",
   "metadata": {},
   "outputs": [
    {
     "data": {
      "text/plain": [
       "['maths', 'Science']"
      ]
     },
     "execution_count": 9,
     "metadata": {},
     "output_type": "execute_result"
    }
   ],
   "source": [
    "assign[\"Subjct\"]"
   ]
  },
  {
   "cell_type": "code",
   "execution_count": 10,
   "id": "ac686daa",
   "metadata": {},
   "outputs": [
    {
     "data": {
      "text/plain": [
       "'Science'"
      ]
     },
     "execution_count": 10,
     "metadata": {},
     "output_type": "execute_result"
    }
   ],
   "source": [
    "assign[\"Subjct\"][1]"
   ]
  },
  {
   "cell_type": "code",
   "execution_count": 11,
   "id": "6eef379e",
   "metadata": {},
   "outputs": [
    {
     "name": "stdout",
     "output_type": "stream",
     "text": [
      "{'class': 'BCA_1', 'Subjct': ['maths', 'Science']}\n"
     ]
    }
   ],
   "source": [
    "print(assign)"
   ]
  },
  {
   "cell_type": "code",
   "execution_count": 12,
   "id": "babb36eb",
   "metadata": {},
   "outputs": [],
   "source": [
    "assign[\"desig\"]=\"AP\"  #Adding New Key and Value"
   ]
  },
  {
   "cell_type": "code",
   "execution_count": 13,
   "id": "33a732d4",
   "metadata": {},
   "outputs": [
    {
     "name": "stdout",
     "output_type": "stream",
     "text": [
      "{'class': 'BCA_1', 'Subjct': ['maths', 'Science'], 'desig': 'AP'}\n"
     ]
    }
   ],
   "source": [
    "print(assign)"
   ]
  },
  {
   "cell_type": "code",
   "execution_count": 14,
   "id": "5aa7c8f6",
   "metadata": {},
   "outputs": [],
   "source": [
    "del assign[\"class\"]   # Deleting an Element"
   ]
  },
  {
   "cell_type": "code",
   "execution_count": 15,
   "id": "a818a5a3",
   "metadata": {},
   "outputs": [
    {
     "name": "stdout",
     "output_type": "stream",
     "text": [
      "{'Subjct': ['maths', 'Science'], 'desig': 'AP'}\n"
     ]
    }
   ],
   "source": [
    "print(assign)"
   ]
  },
  {
   "cell_type": "code",
   "execution_count": 16,
   "id": "48641856",
   "metadata": {},
   "outputs": [
    {
     "data": {
      "text/plain": [
       "dict_values([['maths', 'Science'], 'AP'])"
      ]
     },
     "execution_count": 16,
     "metadata": {},
     "output_type": "execute_result"
    }
   ],
   "source": [
    "assign.values()"
   ]
  },
  {
   "cell_type": "code",
   "execution_count": 17,
   "id": "51bfc597",
   "metadata": {},
   "outputs": [],
   "source": [
    "p=list(assign.values())"
   ]
  },
  {
   "cell_type": "code",
   "execution_count": 18,
   "id": "8d110e7d",
   "metadata": {},
   "outputs": [
    {
     "name": "stdout",
     "output_type": "stream",
     "text": [
      "[['maths', 'Science'], 'AP']\n"
     ]
    }
   ],
   "source": [
    "print(p)"
   ]
  },
  {
   "cell_type": "code",
   "execution_count": 19,
   "id": "9cb26091",
   "metadata": {},
   "outputs": [
    {
     "data": {
      "text/plain": [
       "['maths', 'Science']"
      ]
     },
     "execution_count": 19,
     "metadata": {},
     "output_type": "execute_result"
    }
   ],
   "source": [
    "p[0]"
   ]
  },
  {
   "cell_type": "code",
   "execution_count": 20,
   "id": "d9ba6ecf",
   "metadata": {},
   "outputs": [
    {
     "data": {
      "text/plain": [
       "'Science'"
      ]
     },
     "execution_count": 20,
     "metadata": {},
     "output_type": "execute_result"
    }
   ],
   "source": [
    "p[0][1]"
   ]
  },
  {
   "cell_type": "markdown",
   "id": "fa97420e",
   "metadata": {},
   "source": [
    "# Contol Statements"
   ]
  },
  {
   "cell_type": "code",
   "execution_count": 21,
   "id": "ee192baf",
   "metadata": {},
   "outputs": [
    {
     "name": "stdout",
     "output_type": "stream",
     "text": [
      "Your marks45\n",
      "Go to Batch A3\n"
     ]
    }
   ],
   "source": [
    "\n",
    "marks=int(input(\"Your marks\"))\n",
    "if marks >= 75:\n",
    "    print(\"Go to Batch A1\")\n",
    "elif marks > 60 and marks <75:\n",
    "    print(\"Go to Batch A2\")\n",
    "else:\n",
    "    print(\"Go to Batch A3\")\n",
    "\n"
   ]
  },
  {
   "cell_type": "code",
   "execution_count": 27,
   "id": "0a67d9b3",
   "metadata": {},
   "outputs": [
    {
     "name": "stdout",
     "output_type": "stream",
     "text": [
      "[2, 5, 6, 8, 9, 4, 44, 57]\n"
     ]
    }
   ],
   "source": [
    "mylist=[1,4,5,7,8,3,43,56]\n",
    "newlist=[]\n",
    "for i in mylist:\n",
    "    newlist.append(i+1)\n",
    "print(newlist)"
   ]
  },
  {
   "cell_type": "code",
   "execution_count": 31,
   "id": "14d49a9d",
   "metadata": {},
   "outputs": [],
   "source": [
    "slist=[\"praveen\",\"manmohan\",\"shree\"]\n",
    "blist=[]\n",
    "for i in slist:\n",
    "    blist.append(i.upper())"
   ]
  },
  {
   "cell_type": "code",
   "execution_count": 32,
   "id": "654cf029",
   "metadata": {},
   "outputs": [
    {
     "name": "stdout",
     "output_type": "stream",
     "text": [
      "['PRAVEEN', 'MANMOHAN', 'SHREE']\n"
     ]
    }
   ],
   "source": [
    "print(blist)"
   ]
  },
  {
   "cell_type": "code",
   "execution_count": 33,
   "id": "5ed39923",
   "metadata": {},
   "outputs": [],
   "source": [
    "qlist=[1,2,3,\"rohan\",23.34,\"manohar\"]"
   ]
  },
  {
   "cell_type": "code",
   "execution_count": 39,
   "id": "df62747c",
   "metadata": {},
   "outputs": [],
   "source": [
    "slist=[]\n",
    "nlist=[]\n",
    "for i in qlist:\n",
    "    type(i)\n",
    "    if type(i) == int or type(i) == float:\n",
    "        nlist.append(i)\n",
    "    if type(i) == str:\n",
    "        slist.append(i)"
   ]
  },
  {
   "cell_type": "code",
   "execution_count": 40,
   "id": "790aa50a",
   "metadata": {},
   "outputs": [
    {
     "name": "stdout",
     "output_type": "stream",
     "text": [
      "['rohan', 'manohar']\n"
     ]
    }
   ],
   "source": [
    "print(slist)"
   ]
  },
  {
   "cell_type": "code",
   "execution_count": 41,
   "id": "4e5085a8",
   "metadata": {},
   "outputs": [
    {
     "name": "stdout",
     "output_type": "stream",
     "text": [
      "[1, 2, 3, 23.34]\n"
     ]
    }
   ],
   "source": [
    "print(nlist)"
   ]
  },
  {
   "cell_type": "code",
   "execution_count": null,
   "id": "c48caceb",
   "metadata": {},
   "outputs": [],
   "source": []
  }
 ],
 "metadata": {
  "kernelspec": {
   "display_name": "Python 3 (ipykernel)",
   "language": "python",
   "name": "python3"
  },
  "language_info": {
   "codemirror_mode": {
    "name": "ipython",
    "version": 3
   },
   "file_extension": ".py",
   "mimetype": "text/x-python",
   "name": "python",
   "nbconvert_exporter": "python",
   "pygments_lexer": "ipython3",
   "version": "3.11.0"
  }
 },
 "nbformat": 4,
 "nbformat_minor": 5
}
