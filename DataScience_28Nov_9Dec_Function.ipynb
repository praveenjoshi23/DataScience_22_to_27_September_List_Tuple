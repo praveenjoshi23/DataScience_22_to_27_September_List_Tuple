{
 "cells": [
  {
   "cell_type": "code",
   "execution_count": 4,
   "id": "60eba830",
   "metadata": {},
   "outputs": [],
   "source": [
    "def first():\n",
    "    print(\"First Function\")\n",
    "    "
   ]
  },
  {
   "cell_type": "code",
   "execution_count": 5,
   "id": "80730061",
   "metadata": {},
   "outputs": [
    {
     "name": "stdout",
     "output_type": "stream",
     "text": [
      "First Function\n"
     ]
    }
   ],
   "source": [
    "first()"
   ]
  },
  {
   "cell_type": "code",
   "execution_count": 7,
   "id": "6a0d9661",
   "metadata": {},
   "outputs": [],
   "source": [
    "def second():\n",
    "    return 2"
   ]
  },
  {
   "cell_type": "code",
   "execution_count": 8,
   "id": "68ca66dc",
   "metadata": {},
   "outputs": [
    {
     "data": {
      "text/plain": [
       "2"
      ]
     },
     "execution_count": 8,
     "metadata": {},
     "output_type": "execute_result"
    }
   ],
   "source": [
    "second()"
   ]
  },
  {
   "cell_type": "code",
   "execution_count": 10,
   "id": "b516abb8",
   "metadata": {},
   "outputs": [],
   "source": [
    "def third():\n",
    "    return \"Returning String\""
   ]
  },
  {
   "cell_type": "code",
   "execution_count": 17,
   "id": "bde43732",
   "metadata": {},
   "outputs": [],
   "source": [
    "def arg(a,b,c):\n",
    "    \"\"\"Function to find function value of a,b,c\"\"\"\n",
    "    result=(a+b)/c\n",
    "    return result"
   ]
  },
  {
   "cell_type": "markdown",
   "id": "aaf29ed4",
   "metadata": {},
   "source": [
    "# Argument Passing"
   ]
  },
  {
   "cell_type": "code",
   "execution_count": 18,
   "id": "2dab9ad3",
   "metadata": {},
   "outputs": [
    {
     "data": {
      "text/plain": [
       "'Returning String'"
      ]
     },
     "execution_count": 18,
     "metadata": {},
     "output_type": "execute_result"
    }
   ],
   "source": [
    "third()"
   ]
  },
  {
   "cell_type": "code",
   "execution_count": 16,
   "id": "5148ee56",
   "metadata": {},
   "outputs": [
    {
     "name": "stdout",
     "output_type": "stream",
     "text": [
      "Enter value of a, b, c:\n",
      "2\n",
      "3\n",
      "6\n"
     ]
    },
    {
     "data": {
      "text/plain": [
       "0.8333333333333334"
      ]
     },
     "execution_count": 16,
     "metadata": {},
     "output_type": "execute_result"
    }
   ],
   "source": [
    "print(\"Enter value of a, b, c:\")\n",
    "a=int(input())\n",
    "b=int(input())\n",
    "c=int(input())\n",
    "arg(a,b,c)"
   ]
  },
  {
   "cell_type": "code",
   "execution_count": 6,
   "id": "66aacd1f",
   "metadata": {},
   "outputs": [],
   "source": [
    "def fn(*argu):\n",
    "    return argu"
   ]
  },
  {
   "cell_type": "code",
   "execution_count": 8,
   "id": "4b0d4d6e",
   "metadata": {},
   "outputs": [
    {
     "data": {
      "text/plain": [
       "(3, 4, 'prav')"
      ]
     },
     "execution_count": 8,
     "metadata": {},
     "output_type": "execute_result"
    }
   ],
   "source": [
    "fn(3,4,\"prav\")"
   ]
  },
  {
   "cell_type": "code",
   "execution_count": 20,
   "id": "0b4cebbb",
   "metadata": {},
   "outputs": [],
   "source": [
    "def dictionary(**ar):     #Creating Dictionary\n",
    "    return ar"
   ]
  },
  {
   "cell_type": "code",
   "execution_count": 21,
   "id": "8e95d47b",
   "metadata": {},
   "outputs": [
    {
     "data": {
      "text/plain": [
       "{}"
      ]
     },
     "execution_count": 21,
     "metadata": {},
     "output_type": "execute_result"
    }
   ],
   "source": [
    "dictionary()"
   ]
  },
  {
   "cell_type": "code",
   "execution_count": 22,
   "id": "178c6427",
   "metadata": {},
   "outputs": [
    {
     "data": {
      "text/plain": [
       "dict"
      ]
     },
     "execution_count": 22,
     "metadata": {},
     "output_type": "execute_result"
    }
   ],
   "source": [
    "type(dictionary())"
   ]
  },
  {
   "cell_type": "code",
   "execution_count": 23,
   "id": "79cfd04b",
   "metadata": {},
   "outputs": [
    {
     "data": {
      "text/plain": [
       "{}"
      ]
     },
     "execution_count": 23,
     "metadata": {},
     "output_type": "execute_result"
    }
   ],
   "source": [
    "dictionary()"
   ]
  },
  {
   "cell_type": "code",
   "execution_count": 1,
   "id": "91710501",
   "metadata": {},
   "outputs": [],
   "source": [
    "newlist=[1,2,3,\"pra\",\"jos\",[1,2,3,5]]"
   ]
  },
  {
   "cell_type": "code",
   "execution_count": 7,
   "id": "ea8fab88",
   "metadata": {},
   "outputs": [],
   "source": [
    "def extr(a):\n",
    "    \"\"\"this function extracts numeric data from list\"\"\"\n",
    "    l=[]\n",
    "    for i in a:\n",
    "        if type(i)==int:\n",
    "            l.append(i)\n",
    "    return l\n",
    "            "
   ]
  },
  {
   "cell_type": "code",
   "execution_count": 8,
   "id": "ab3e439a",
   "metadata": {},
   "outputs": [
    {
     "data": {
      "text/plain": [
       "[1, 2, 3]"
      ]
     },
     "execution_count": 8,
     "metadata": {},
     "output_type": "execute_result"
    }
   ],
   "source": [
    "newlist=[1,2,3,\"pra\",\"jos\",[1,2,3,5]]\n",
    "extr(newlist)"
   ]
  },
  {
   "cell_type": "markdown",
   "id": "6f0a937a",
   "metadata": {},
   "source": [
    "# Lambda Function"
   ]
  },
  {
   "cell_type": "code",
   "execution_count": 10,
   "id": "41956df6",
   "metadata": {},
   "outputs": [
    {
     "data": {
      "text/plain": [
       "range(0, 10)"
      ]
     },
     "execution_count": 10,
     "metadata": {},
     "output_type": "execute_result"
    }
   ],
   "source": [
    "range(10)"
   ]
  },
  {
   "cell_type": "code",
   "execution_count": 11,
   "id": "f7d6cf9c",
   "metadata": {},
   "outputs": [
    {
     "name": "stdout",
     "output_type": "stream",
     "text": [
      "0\n",
      "1\n",
      "2\n",
      "3\n",
      "4\n",
      "5\n",
      "6\n",
      "7\n",
      "8\n",
      "9\n"
     ]
    }
   ],
   "source": [
    "for i in range(10):\n",
    "    print(i)"
   ]
  },
  {
   "cell_type": "code",
   "execution_count": 13,
   "id": "679e9e80",
   "metadata": {},
   "outputs": [],
   "source": [
    "def fin(n):                                #Fibonacci Series\n",
    "    a,b=0,1\n",
    "    for i in range(n):\n",
    "        yield a                             #Generator Function\n",
    "        a,b=b,a+b\n",
    "        \n",
    "    "
   ]
  },
  {
   "cell_type": "code",
   "execution_count": 14,
   "id": "f43f6ee6",
   "metadata": {},
   "outputs": [
    {
     "data": {
      "text/plain": [
       "<generator object fin at 0x000001EE17EF65C0>"
      ]
     },
     "execution_count": 14,
     "metadata": {},
     "output_type": "execute_result"
    }
   ],
   "source": [
    "fin(14)"
   ]
  },
  {
   "cell_type": "code",
   "execution_count": 17,
   "id": "f9facba0",
   "metadata": {},
   "outputs": [
    {
     "name": "stdout",
     "output_type": "stream",
     "text": [
      "0\n",
      "1\n",
      "1\n",
      "2\n",
      "3\n",
      "5\n",
      "8\n",
      "13\n",
      "21\n",
      "34\n",
      "55\n",
      "89\n",
      "144\n",
      "233\n"
     ]
    }
   ],
   "source": [
    "for i in fin(14):\n",
    "    print(i)"
   ]
  },
  {
   "cell_type": "code",
   "execution_count": 20,
   "id": "bd3cdbef",
   "metadata": {},
   "outputs": [],
   "source": [
    "st=\"praveen\"\n"
   ]
  },
  {
   "cell_type": "code",
   "execution_count": 21,
   "id": "49496f60",
   "metadata": {},
   "outputs": [
    {
     "name": "stdout",
     "output_type": "stream",
     "text": [
      "p\n",
      "r\n",
      "a\n",
      "v\n",
      "e\n",
      "e\n",
      "n\n"
     ]
    }
   ],
   "source": [
    "for i in st:\n",
    "    print(i)"
   ]
  },
  {
   "cell_type": "code",
   "execution_count": 22,
   "id": "b14e59f1",
   "metadata": {},
   "outputs": [],
   "source": [
    "number=1234"
   ]
  },
  {
   "cell_type": "code",
   "execution_count": 23,
   "id": "df2b6705",
   "metadata": {},
   "outputs": [
    {
     "ename": "TypeError",
     "evalue": "'int' object is not iterable",
     "output_type": "error",
     "traceback": [
      "\u001b[1;31m---------------------------------------------------------------------------\u001b[0m",
      "\u001b[1;31mTypeError\u001b[0m                                 Traceback (most recent call last)",
      "Cell \u001b[1;32mIn [23], line 1\u001b[0m\n\u001b[1;32m----> 1\u001b[0m \u001b[38;5;28;01mfor\u001b[39;00m i \u001b[38;5;129;01min\u001b[39;00m number:\n\u001b[0;32m      2\u001b[0m     \u001b[38;5;28mprint\u001b[39m(i)\n",
      "\u001b[1;31mTypeError\u001b[0m: 'int' object is not iterable"
     ]
    }
   ],
   "source": [
    "for i in number:\n",
    "    print(i)"
   ]
  },
  {
   "cell_type": "code",
   "execution_count": 36,
   "id": "69271709",
   "metadata": {},
   "outputs": [
    {
     "ename": "TypeError",
     "evalue": "'int' object is not iterable",
     "output_type": "error",
     "traceback": [
      "\u001b[1;31m---------------------------------------------------------------------------\u001b[0m",
      "\u001b[1;31mTypeError\u001b[0m                                 Traceback (most recent call last)",
      "Cell \u001b[1;32mIn [36], line 1\u001b[0m\n\u001b[1;32m----> 1\u001b[0m no\u001b[38;5;241m=\u001b[39m\u001b[38;5;28;43miter\u001b[39;49m\u001b[43m(\u001b[49m\u001b[43mnumber\u001b[49m\u001b[43m)\u001b[49m                                    \u001b[38;5;66;03m#Cannot convert number to iterable\u001b[39;00m\n",
      "\u001b[1;31mTypeError\u001b[0m: 'int' object is not iterable"
     ]
    }
   ],
   "source": [
    "no=iter(number)                                    #Cannot convert number to iterable"
   ]
  },
  {
   "cell_type": "code",
   "execution_count": 26,
   "id": "9828f768",
   "metadata": {},
   "outputs": [],
   "source": [
    "stt=iter(st)"
   ]
  },
  {
   "cell_type": "code",
   "execution_count": 27,
   "id": "577ba9d4",
   "metadata": {},
   "outputs": [
    {
     "data": {
      "text/plain": [
       "'p'"
      ]
     },
     "execution_count": 27,
     "metadata": {},
     "output_type": "execute_result"
    }
   ],
   "source": [
    "next(stt)"
   ]
  },
  {
   "cell_type": "code",
   "execution_count": 28,
   "id": "3cbeb0ea",
   "metadata": {},
   "outputs": [
    {
     "data": {
      "text/plain": [
       "'r'"
      ]
     },
     "execution_count": 28,
     "metadata": {},
     "output_type": "execute_result"
    }
   ],
   "source": [
    "next(stt)"
   ]
  },
  {
   "cell_type": "code",
   "execution_count": 29,
   "id": "d1836750",
   "metadata": {},
   "outputs": [
    {
     "data": {
      "text/plain": [
       "'a'"
      ]
     },
     "execution_count": 29,
     "metadata": {},
     "output_type": "execute_result"
    }
   ],
   "source": [
    "next(stt)"
   ]
  },
  {
   "cell_type": "code",
   "execution_count": 30,
   "id": "acaf04d6",
   "metadata": {},
   "outputs": [
    {
     "data": {
      "text/plain": [
       "'v'"
      ]
     },
     "execution_count": 30,
     "metadata": {},
     "output_type": "execute_result"
    }
   ],
   "source": [
    "next(stt)"
   ]
  },
  {
   "cell_type": "code",
   "execution_count": 31,
   "id": "c35ca5ac",
   "metadata": {},
   "outputs": [
    {
     "data": {
      "text/plain": [
       "'e'"
      ]
     },
     "execution_count": 31,
     "metadata": {},
     "output_type": "execute_result"
    }
   ],
   "source": [
    "next(stt)"
   ]
  },
  {
   "cell_type": "code",
   "execution_count": 32,
   "id": "d9bbf1fc",
   "metadata": {},
   "outputs": [
    {
     "data": {
      "text/plain": [
       "'e'"
      ]
     },
     "execution_count": 32,
     "metadata": {},
     "output_type": "execute_result"
    }
   ],
   "source": [
    "next(stt)"
   ]
  },
  {
   "cell_type": "code",
   "execution_count": 33,
   "id": "1a87da7e",
   "metadata": {},
   "outputs": [
    {
     "data": {
      "text/plain": [
       "'n'"
      ]
     },
     "execution_count": 33,
     "metadata": {},
     "output_type": "execute_result"
    }
   ],
   "source": [
    "next(stt)"
   ]
  },
  {
   "cell_type": "code",
   "execution_count": 34,
   "id": "96706aa3",
   "metadata": {},
   "outputs": [
    {
     "ename": "StopIteration",
     "evalue": "",
     "output_type": "error",
     "traceback": [
      "\u001b[1;31m---------------------------------------------------------------------------\u001b[0m",
      "\u001b[1;31mStopIteration\u001b[0m                             Traceback (most recent call last)",
      "Cell \u001b[1;32mIn [34], line 1\u001b[0m\n\u001b[1;32m----> 1\u001b[0m \u001b[38;5;28;43mnext\u001b[39;49m\u001b[43m(\u001b[49m\u001b[43mstt\u001b[49m\u001b[43m)\u001b[49m\n",
      "\u001b[1;31mStopIteration\u001b[0m: "
     ]
    }
   ],
   "source": [
    "next(stt)"
   ]
  },
  {
   "cell_type": "markdown",
   "id": "89e4e471",
   "metadata": {},
   "source": [
    "#Only iterable is converted into iterator\n",
    "'''Integer is not iterable'''"
   ]
  },
  {
   "cell_type": "code",
   "execution_count": 42,
   "id": "d35cd043",
   "metadata": {},
   "outputs": [],
   "source": [
    "def powe(n,p):\n",
    "    ans=n**p\n",
    "    print(ans)"
   ]
  },
  {
   "cell_type": "code",
   "execution_count": 43,
   "id": "f429bb3b",
   "metadata": {},
   "outputs": [
    {
     "name": "stdout",
     "output_type": "stream",
     "text": [
      "8\n"
     ]
    }
   ],
   "source": [
    "powe(2,3)"
   ]
  },
  {
   "cell_type": "code",
   "execution_count": 45,
   "id": "777b7b79",
   "metadata": {},
   "outputs": [],
   "source": [
    "k=lambda a,b,c : a+b+c              #One liner lambda function"
   ]
  },
  {
   "cell_type": "code",
   "execution_count": 46,
   "id": "4ceebf85",
   "metadata": {},
   "outputs": [
    {
     "data": {
      "text/plain": [
       "4"
      ]
     },
     "execution_count": 46,
     "metadata": {},
     "output_type": "execute_result"
    }
   ],
   "source": [
    "k(2,1,1)"
   ]
  },
  {
   "cell_type": "markdown",
   "id": "91e4c0cd",
   "metadata": {},
   "source": [
    "# Map"
   ]
  },
  {
   "cell_type": "code",
   "execution_count": 2,
   "id": "7370581b",
   "metadata": {},
   "outputs": [],
   "source": [
    "l=[2,4,5,6]"
   ]
  },
  {
   "cell_type": "code",
   "execution_count": 3,
   "id": "f3c07a67",
   "metadata": {},
   "outputs": [],
   "source": [
    "def cube(x):                              #Function Written for Cube \n",
    "    return x*x*x"
   ]
  },
  {
   "cell_type": "code",
   "execution_count": 5,
   "id": "6744644c",
   "metadata": {},
   "outputs": [
    {
     "data": {
      "text/plain": [
       "[8, 64, 125, 216]"
      ]
     },
     "execution_count": 5,
     "metadata": {},
     "output_type": "execute_result"
    }
   ],
   "source": [
    "list(map(cube,l))"
   ]
  },
  {
   "cell_type": "code",
   "execution_count": 17,
   "id": "2be4818a",
   "metadata": {},
   "outputs": [],
   "source": [
    "l1=[2,3,5,67]\n",
    "l2=[23,45,2,89,90]                        #See here one elemnt is extra"
   ]
  },
  {
   "cell_type": "code",
   "execution_count": 18,
   "id": "0082b54f",
   "metadata": {},
   "outputs": [],
   "source": [
    "a=map(lambda x,y: x+y,l1,l2)"
   ]
  },
  {
   "cell_type": "code",
   "execution_count": 19,
   "id": "49c326d2",
   "metadata": {},
   "outputs": [
    {
     "data": {
      "text/plain": [
       "[25, 48, 7, 156]"
      ]
     },
     "execution_count": 19,
     "metadata": {},
     "output_type": "execute_result"
    }
   ],
   "source": [
    "list(a)"
   ]
  },
  {
   "cell_type": "code",
   "execution_count": 20,
   "id": "98cd4d2b",
   "metadata": {},
   "outputs": [],
   "source": [
    "name=\"praveen\""
   ]
  },
  {
   "cell_type": "code",
   "execution_count": 22,
   "id": "ddabd056",
   "metadata": {},
   "outputs": [],
   "source": [
    "b=map(lambda name: name.upper(),name)"
   ]
  },
  {
   "cell_type": "code",
   "execution_count": 23,
   "id": "d29ad263",
   "metadata": {},
   "outputs": [
    {
     "data": {
      "text/plain": [
       "['P', 'R', 'A', 'V', 'E', 'E', 'N']"
      ]
     },
     "execution_count": 23,
     "metadata": {},
     "output_type": "execute_result"
    }
   ],
   "source": [
    "list(b)"
   ]
  },
  {
   "cell_type": "code",
   "execution_count": 26,
   "id": "b18a1fca",
   "metadata": {},
   "outputs": [
    {
     "name": "stdout",
     "output_type": "stream",
     "text": [
      "<map object at 0x0000026149556C20>\n"
     ]
    }
   ],
   "source": [
    "str(b)"
   ]
  },
  {
   "cell_type": "markdown",
   "id": "fecb233e",
   "metadata": {},
   "source": [
    "# Reduce"
   ]
  },
  {
   "cell_type": "code",
   "execution_count": 2,
   "id": "b1e09921",
   "metadata": {},
   "outputs": [],
   "source": [
    "from functools import reduce"
   ]
  },
  {
   "cell_type": "code",
   "execution_count": 4,
   "id": "87a09676",
   "metadata": {},
   "outputs": [],
   "source": [
    "mu=[2,5,3,6,8]"
   ]
  },
  {
   "cell_type": "code",
   "execution_count": 6,
   "id": "998ff7db",
   "metadata": {},
   "outputs": [
    {
     "ename": "TypeError",
     "evalue": "<lambda>() missing 1 required positional argument: 'z'",
     "output_type": "error",
     "traceback": [
      "\u001b[1;31m---------------------------------------------------------------------------\u001b[0m",
      "\u001b[1;31mTypeError\u001b[0m                                 Traceback (most recent call last)",
      "Cell \u001b[1;32mIn [6], line 1\u001b[0m\n\u001b[1;32m----> 1\u001b[0m \u001b[43mreduce\u001b[49m\u001b[43m(\u001b[49m\u001b[38;5;28;43;01mlambda\u001b[39;49;00m\u001b[43m \u001b[49m\u001b[43mx\u001b[49m\u001b[43m,\u001b[49m\u001b[43my\u001b[49m\u001b[43m,\u001b[49m\u001b[43mz\u001b[49m\u001b[43m:\u001b[49m\u001b[43m(\u001b[49m\u001b[43mx\u001b[49m\u001b[38;5;241;43m+\u001b[39;49m\u001b[43my\u001b[49m\u001b[43m)\u001b[49m\u001b[38;5;241;43m/\u001b[39;49m\u001b[43mz\u001b[49m\u001b[43m,\u001b[49m\u001b[43mmu\u001b[49m\u001b[43m)\u001b[49m                 \u001b[38;5;66;03m#Only Two Parameters are Allowed\u001b[39;00m\n",
      "\u001b[1;31mTypeError\u001b[0m: <lambda>() missing 1 required positional argument: 'z'"
     ]
    }
   ],
   "source": [
    "reduce(lambda x,y,z:(x+y)/z,mu)                 #Only Two Parameters are Allowed"
   ]
  },
  {
   "cell_type": "code",
   "execution_count": 7,
   "id": "ec097c66",
   "metadata": {},
   "outputs": [
    {
     "data": {
      "text/plain": [
       "1440"
      ]
     },
     "execution_count": 7,
     "metadata": {},
     "output_type": "execute_result"
    }
   ],
   "source": [
    "reduce(lambda x,y:x*y,mu) "
   ]
  },
  {
   "cell_type": "code",
   "execution_count": 8,
   "id": "c4a78a42",
   "metadata": {},
   "outputs": [],
   "source": [
    "salary=[122,15,13,566,78]"
   ]
  },
  {
   "cell_type": "code",
   "execution_count": 11,
   "id": "a54f9d46",
   "metadata": {},
   "outputs": [
    {
     "data": {
      "text/plain": [
       "566"
      ]
     },
     "execution_count": 11,
     "metadata": {},
     "output_type": "execute_result"
    }
   ],
   "source": [
    "reduce(lambda x,y: x if x>y else y,salary)     #Finding Greatest Number"
   ]
  },
  {
   "cell_type": "markdown",
   "id": "fe437a3e",
   "metadata": {},
   "source": [
    "# Filter"
   ]
  },
  {
   "cell_type": "code",
   "execution_count": 12,
   "id": "155b9d61",
   "metadata": {},
   "outputs": [],
   "source": [
    "names=[\"praveen\",\"rahul\",\"ramesh\",\"amit\"]"
   ]
  },
  {
   "cell_type": "code",
   "execution_count": 17,
   "id": "15f3153b",
   "metadata": {},
   "outputs": [
    {
     "data": {
      "text/plain": [
       "['rahul', 'amit']"
      ]
     },
     "execution_count": 17,
     "metadata": {},
     "output_type": "execute_result"
    }
   ],
   "source": [
    "list(filter(lambda x: len(x)<6,names))    "
   ]
  },
  {
   "cell_type": "code",
   "execution_count": null,
   "id": "3e04cdb6",
   "metadata": {},
   "outputs": [],
   "source": []
  }
 ],
 "metadata": {
  "kernelspec": {
   "display_name": "Python 3 (ipykernel)",
   "language": "python",
   "name": "python3"
  },
  "language_info": {
   "codemirror_mode": {
    "name": "ipython",
    "version": 3
   },
   "file_extension": ".py",
   "mimetype": "text/x-python",
   "name": "python",
   "nbconvert_exporter": "python",
   "pygments_lexer": "ipython3",
   "version": "3.11.0"
  }
 },
 "nbformat": 4,
 "nbformat_minor": 5
}
