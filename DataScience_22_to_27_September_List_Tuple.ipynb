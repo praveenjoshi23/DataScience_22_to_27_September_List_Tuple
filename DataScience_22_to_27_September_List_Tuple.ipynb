{
 "cells": [
  {
   "cell_type": "markdown",
   "id": "744c329d",
   "metadata": {},
   "source": [
    "****Slicing String****"
   ]
  },
  {
   "cell_type": "code",
   "execution_count": 1,
   "id": "ad8fbbe7",
   "metadata": {},
   "outputs": [],
   "source": [
    "name='praveenjoshi'"
   ]
  },
  {
   "cell_type": "code",
   "execution_count": 5,
   "id": "18e8c961",
   "metadata": {},
   "outputs": [
    {
     "data": {
      "text/plain": [
       "'ihs'"
      ]
     },
     "execution_count": 5,
     "metadata": {},
     "output_type": "execute_result"
    }
   ],
   "source": [
    "name[-1:-4:-1]"
   ]
  },
  {
   "cell_type": "code",
   "execution_count": 6,
   "id": "6b63d99a",
   "metadata": {},
   "outputs": [
    {
     "data": {
      "text/plain": [
       "'praveenjoshi'"
      ]
     },
     "execution_count": 6,
     "metadata": {},
     "output_type": "execute_result"
    }
   ],
   "source": [
    "name[::]"
   ]
  },
  {
   "cell_type": "code",
   "execution_count": 7,
   "id": "46a8dbab",
   "metadata": {},
   "outputs": [
    {
     "data": {
      "text/plain": [
       "'ihsojneevarp'"
      ]
     },
     "execution_count": 7,
     "metadata": {},
     "output_type": "execute_result"
    }
   ],
   "source": [
    "name[::-1]"
   ]
  },
  {
   "cell_type": "code",
   "execution_count": 8,
   "id": "09f87465",
   "metadata": {},
   "outputs": [
    {
     "data": {
      "text/plain": [
       "'a'"
      ]
     },
     "execution_count": 8,
     "metadata": {},
     "output_type": "execute_result"
    }
   ],
   "source": [
    "name[2]"
   ]
  },
  {
   "cell_type": "code",
   "execution_count": 9,
   "id": "9a613792",
   "metadata": {},
   "outputs": [
    {
     "data": {
      "text/plain": [
       "'prav'"
      ]
     },
     "execution_count": 9,
     "metadata": {},
     "output_type": "execute_result"
    }
   ],
   "source": [
    "name[:4]"
   ]
  },
  {
   "cell_type": "code",
   "execution_count": 10,
   "id": "f911ed92",
   "metadata": {},
   "outputs": [
    {
     "data": {
      "text/plain": [
       "'veenjoshi'"
      ]
     },
     "execution_count": 10,
     "metadata": {},
     "output_type": "execute_result"
    }
   ],
   "source": [
    "name[3:]"
   ]
  },
  {
   "cell_type": "code",
   "execution_count": 11,
   "id": "f5a53312",
   "metadata": {},
   "outputs": [
    {
     "data": {
      "text/plain": [
       "'i'"
      ]
     },
     "execution_count": 11,
     "metadata": {},
     "output_type": "execute_result"
    }
   ],
   "source": [
    "name[-1::2]"
   ]
  },
  {
   "cell_type": "code",
   "execution_count": 14,
   "id": "28e3a64c",
   "metadata": {},
   "outputs": [
    {
     "data": {
      "text/plain": [
       "'isjevr'"
      ]
     },
     "execution_count": 14,
     "metadata": {},
     "output_type": "execute_result"
    }
   ],
   "source": [
    "name[-1::-2]"
   ]
  },
  {
   "cell_type": "code",
   "execution_count": 15,
   "id": "6900a517",
   "metadata": {},
   "outputs": [
    {
     "data": {
      "text/plain": [
       "12"
      ]
     },
     "execution_count": 15,
     "metadata": {},
     "output_type": "execute_result"
    }
   ],
   "source": [
    "len(name)"
   ]
  },
  {
   "cell_type": "code",
   "execution_count": 17,
   "id": "d670f1c8",
   "metadata": {},
   "outputs": [
    {
     "data": {
      "text/plain": [
       "1"
      ]
     },
     "execution_count": 17,
     "metadata": {},
     "output_type": "execute_result"
    }
   ],
   "source": [
    "name.find('r')"
   ]
  },
  {
   "cell_type": "code",
   "execution_count": 18,
   "id": "57f12dbc",
   "metadata": {},
   "outputs": [
    {
     "data": {
      "text/plain": [
       "4"
      ]
     },
     "execution_count": 18,
     "metadata": {},
     "output_type": "execute_result"
    }
   ],
   "source": [
    "name.find('e')"
   ]
  },
  {
   "cell_type": "markdown",
   "id": "3ece0efb",
   "metadata": {},
   "source": [
    "Writing Function for Searching Index of Strinng's Character"
   ]
  },
  {
   "cell_type": "code",
   "execution_count": 24,
   "id": "4addae53",
   "metadata": {},
   "outputs": [
    {
     "name": "stdout",
     "output_type": "stream",
     "text": [
      "Index of 1  e is: 4\n",
      "Index of 2  e is: 5\n"
     ]
    }
   ],
   "source": [
    "\n",
    "count=0;\n",
    "al_count=1\n",
    "for i in name:\n",
    "    count+=1\n",
    "    if (i=='e'):\n",
    "        print(\"Index of\",al_count,\"\",i,\"is:\",count-1)\n",
    "        al_count+=1\n",
    "    else:\n",
    "        continue"
   ]
  },
  {
   "cell_type": "code",
   "execution_count": 1,
   "id": "89bfb308",
   "metadata": {},
   "outputs": [],
   "source": [
    "l=['praveen',5+6j,99,True]"
   ]
  },
  {
   "cell_type": "code",
   "execution_count": 2,
   "id": "ae4f057a",
   "metadata": {},
   "outputs": [
    {
     "data": {
      "text/plain": [
       "(5+6j)"
      ]
     },
     "execution_count": 2,
     "metadata": {},
     "output_type": "execute_result"
    }
   ],
   "source": [
    "l[1]"
   ]
  },
  {
   "cell_type": "code",
   "execution_count": 3,
   "id": "69d6898b",
   "metadata": {},
   "outputs": [
    {
     "data": {
      "text/plain": [
       "complex"
      ]
     },
     "execution_count": 3,
     "metadata": {},
     "output_type": "execute_result"
    }
   ],
   "source": [
    "type(l[1])"
   ]
  },
  {
   "cell_type": "code",
   "execution_count": 4,
   "id": "4fa5d8e5",
   "metadata": {},
   "outputs": [
    {
     "data": {
      "text/plain": [
       "['praveen', (5+6j), 99, True]"
      ]
     },
     "execution_count": 4,
     "metadata": {},
     "output_type": "execute_result"
    }
   ],
   "source": [
    "l[0:]"
   ]
  },
  {
   "cell_type": "code",
   "execution_count": 5,
   "id": "8a3d3ddc",
   "metadata": {},
   "outputs": [
    {
     "data": {
      "text/plain": [
       "['praveen', (5+6j), 99, True]"
      ]
     },
     "execution_count": 5,
     "metadata": {},
     "output_type": "execute_result"
    }
   ],
   "source": [
    "l[:]"
   ]
  },
  {
   "cell_type": "code",
   "execution_count": 6,
   "id": "c4d2ccce",
   "metadata": {},
   "outputs": [
    {
     "data": {
      "text/plain": [
       "['praveen', (5+6j), 99]"
      ]
     },
     "execution_count": 6,
     "metadata": {},
     "output_type": "execute_result"
    }
   ],
   "source": [
    "l[:-1]"
   ]
  },
  {
   "cell_type": "code",
   "execution_count": 7,
   "id": "c1feb345",
   "metadata": {},
   "outputs": [
    {
     "data": {
      "text/plain": [
       "[True]"
      ]
     },
     "execution_count": 7,
     "metadata": {},
     "output_type": "execute_result"
    }
   ],
   "source": [
    "l[-1:]"
   ]
  },
  {
   "cell_type": "code",
   "execution_count": 8,
   "id": "4b449e63",
   "metadata": {},
   "outputs": [
    {
     "data": {
      "text/plain": [
       "[True, 99, (5+6j), 'praveen']"
      ]
     },
     "execution_count": 8,
     "metadata": {},
     "output_type": "execute_result"
    }
   ],
   "source": [
    "l[::-1]"
   ]
  },
  {
   "cell_type": "code",
   "execution_count": 9,
   "id": "4b685017",
   "metadata": {},
   "outputs": [
    {
     "data": {
      "text/plain": [
       "['praveen', (5+6j), 99, True]"
      ]
     },
     "execution_count": 9,
     "metadata": {},
     "output_type": "execute_result"
    }
   ],
   "source": [
    "l[::1]"
   ]
  },
  {
   "cell_type": "code",
   "execution_count": 10,
   "id": "9a8bb91b",
   "metadata": {},
   "outputs": [
    {
     "data": {
      "text/plain": [
       "['praveen', 99]"
      ]
     },
     "execution_count": 10,
     "metadata": {},
     "output_type": "execute_result"
    }
   ],
   "source": [
    "l[::2]"
   ]
  },
  {
   "cell_type": "code",
   "execution_count": 11,
   "id": "8f6e4e50",
   "metadata": {},
   "outputs": [],
   "source": [
    "l.append('po')"
   ]
  },
  {
   "cell_type": "code",
   "execution_count": 12,
   "id": "168b0555",
   "metadata": {},
   "outputs": [
    {
     "data": {
      "text/plain": [
       "['praveen', (5+6j), 99, True, 'po']"
      ]
     },
     "execution_count": 12,
     "metadata": {},
     "output_type": "execute_result"
    }
   ],
   "source": [
    "l"
   ]
  },
  {
   "cell_type": "code",
   "execution_count": 14,
   "id": "c5737889",
   "metadata": {},
   "outputs": [
    {
     "data": {
      "text/plain": [
       "'ra'"
      ]
     },
     "execution_count": 14,
     "metadata": {},
     "output_type": "execute_result"
    }
   ],
   "source": [
    "l[0][1:3]"
   ]
  },
  {
   "cell_type": "code",
   "execution_count": 16,
   "id": "c279819d",
   "metadata": {},
   "outputs": [],
   "source": [
    "li=[8,9]"
   ]
  },
  {
   "cell_type": "code",
   "execution_count": 17,
   "id": "3d0a542a",
   "metadata": {},
   "outputs": [
    {
     "data": {
      "text/plain": [
       "['praveen', (5+6j), 99, True, 'po', 8, 9]"
      ]
     },
     "execution_count": 17,
     "metadata": {},
     "output_type": "execute_result"
    }
   ],
   "source": [
    "l+li"
   ]
  },
  {
   "cell_type": "code",
   "execution_count": 18,
   "id": "0b628db0",
   "metadata": {},
   "outputs": [],
   "source": [
    "l.append([9.23])"
   ]
  },
  {
   "cell_type": "code",
   "execution_count": 19,
   "id": "c2a25f7d",
   "metadata": {},
   "outputs": [
    {
     "data": {
      "text/plain": [
       "['praveen', (5+6j), 99, True, 'po', [9.23]]"
      ]
     },
     "execution_count": 19,
     "metadata": {},
     "output_type": "execute_result"
    }
   ],
   "source": [
    "l"
   ]
  },
  {
   "cell_type": "code",
   "execution_count": 20,
   "id": "fdfcf98c",
   "metadata": {},
   "outputs": [],
   "source": [
    "l.append([89,'pra'])"
   ]
  },
  {
   "cell_type": "code",
   "execution_count": 21,
   "id": "5d57914c",
   "metadata": {},
   "outputs": [
    {
     "data": {
      "text/plain": [
       "['praveen', (5+6j), 99, True, 'po', [9.23], [89, 'pra']]"
      ]
     },
     "execution_count": 21,
     "metadata": {},
     "output_type": "execute_result"
    }
   ],
   "source": [
    "l"
   ]
  },
  {
   "cell_type": "code",
   "execution_count": 22,
   "id": "a7caf2ee",
   "metadata": {},
   "outputs": [
    {
     "data": {
      "text/plain": [
       "'pra'"
      ]
     },
     "execution_count": 22,
     "metadata": {},
     "output_type": "execute_result"
    }
   ],
   "source": [
    "l[6][1]"
   ]
  },
  {
   "cell_type": "code",
   "execution_count": 23,
   "id": "53c93281",
   "metadata": {},
   "outputs": [],
   "source": [
    "l.extend('jo')  #Not used for integers"
   ]
  },
  {
   "cell_type": "code",
   "execution_count": 24,
   "id": "1b66c0a2",
   "metadata": {},
   "outputs": [
    {
     "data": {
      "text/plain": [
       "['praveen', (5+6j), 99, True, 'po', [9.23], [89, 'pra'], 'j', 'o']"
      ]
     },
     "execution_count": 24,
     "metadata": {},
     "output_type": "execute_result"
    }
   ],
   "source": [
    "l"
   ]
  },
  {
   "cell_type": "code",
   "execution_count": 26,
   "id": "280e2aba",
   "metadata": {},
   "outputs": [],
   "source": [
    "l.insert(1,'po')"
   ]
  },
  {
   "cell_type": "code",
   "execution_count": 27,
   "id": "884a140c",
   "metadata": {},
   "outputs": [
    {
     "data": {
      "text/plain": [
       "['praveen', 'po', (5+6j), 99, True, 'po', [9.23], [89, 'pra'], 'j', 'o']"
      ]
     },
     "execution_count": 27,
     "metadata": {},
     "output_type": "execute_result"
    }
   ],
   "source": [
    "l"
   ]
  },
  {
   "cell_type": "code",
   "execution_count": 28,
   "id": "af75364a",
   "metadata": {},
   "outputs": [],
   "source": [
    "# USE Shift+Tab"
   ]
  },
  {
   "cell_type": "code",
   "execution_count": 29,
   "id": "d56edb1e",
   "metadata": {},
   "outputs": [
    {
     "data": {
      "text/plain": [
       "True"
      ]
     },
     "execution_count": 29,
     "metadata": {},
     "output_type": "execute_result"
    }
   ],
   "source": [
    "l.pop(4)"
   ]
  },
  {
   "cell_type": "code",
   "execution_count": 30,
   "id": "b3927bc6",
   "metadata": {},
   "outputs": [
    {
     "data": {
      "text/plain": [
       "['praveen', 'po', (5+6j), 99, 'po', [9.23], [89, 'pra'], 'j', 'o']"
      ]
     },
     "execution_count": 30,
     "metadata": {},
     "output_type": "execute_result"
    }
   ],
   "source": [
    "l"
   ]
  },
  {
   "cell_type": "code",
   "execution_count": 32,
   "id": "9f5827f9",
   "metadata": {},
   "outputs": [],
   "source": [
    "l.remove('po')"
   ]
  },
  {
   "cell_type": "code",
   "execution_count": 33,
   "id": "f0335258",
   "metadata": {},
   "outputs": [
    {
     "data": {
      "text/plain": [
       "['praveen', (5+6j), 99, 'po', [9.23], [89, 'pra'], 'j', 'o']"
      ]
     },
     "execution_count": 33,
     "metadata": {},
     "output_type": "execute_result"
    }
   ],
   "source": [
    "l"
   ]
  },
  {
   "cell_type": "code",
   "execution_count": 34,
   "id": "1c1e787c",
   "metadata": {},
   "outputs": [
    {
     "ename": "TypeError",
     "evalue": "'<' not supported between instances of 'complex' and 'str'",
     "output_type": "error",
     "traceback": [
      "\u001b[1;31m---------------------------------------------------------------------------\u001b[0m",
      "\u001b[1;31mTypeError\u001b[0m                                 Traceback (most recent call last)",
      "Cell \u001b[1;32mIn [34], line 1\u001b[0m\n\u001b[1;32m----> 1\u001b[0m \u001b[43ml\u001b[49m\u001b[38;5;241;43m.\u001b[39;49m\u001b[43msort\u001b[49m\u001b[43m(\u001b[49m\u001b[43m)\u001b[49m\n",
      "\u001b[1;31mTypeError\u001b[0m: '<' not supported between instances of 'complex' and 'str'"
     ]
    }
   ],
   "source": [
    "l.sort()"
   ]
  },
  {
   "cell_type": "code",
   "execution_count": 35,
   "id": "29bb079c",
   "metadata": {},
   "outputs": [],
   "source": [
    "li=[23,56,1,89]"
   ]
  },
  {
   "cell_type": "code",
   "execution_count": 36,
   "id": "07dcffc3",
   "metadata": {},
   "outputs": [],
   "source": [
    "li.sort()"
   ]
  },
  {
   "cell_type": "code",
   "execution_count": 37,
   "id": "28aab54c",
   "metadata": {},
   "outputs": [
    {
     "data": {
      "text/plain": [
       "[1, 23, 56, 89]"
      ]
     },
     "execution_count": 37,
     "metadata": {},
     "output_type": "execute_result"
    }
   ],
   "source": [
    "li"
   ]
  },
  {
   "cell_type": "code",
   "execution_count": 38,
   "id": "c891ed50",
   "metadata": {},
   "outputs": [],
   "source": [
    "li.sort(reverse=True)"
   ]
  },
  {
   "cell_type": "code",
   "execution_count": 39,
   "id": "a7889c86",
   "metadata": {},
   "outputs": [
    {
     "data": {
      "text/plain": [
       "[89, 56, 23, 1]"
      ]
     },
     "execution_count": 39,
     "metadata": {},
     "output_type": "execute_result"
    }
   ],
   "source": [
    "li"
   ]
  },
  {
   "cell_type": "code",
   "execution_count": null,
   "id": "8a125cad",
   "metadata": {},
   "outputs": [],
   "source": []
  }
 ],
 "metadata": {
  "kernelspec": {
   "display_name": "Python 3 (ipykernel)",
   "language": "python",
   "name": "python3"
  },
  "language_info": {
   "codemirror_mode": {
    "name": "ipython",
    "version": 3
   },
   "file_extension": ".py",
   "mimetype": "text/x-python",
   "name": "python",
   "nbconvert_exporter": "python",
   "pygments_lexer": "ipython3",
   "version": "3.11.0"
  }
 },
 "nbformat": 4,
 "nbformat_minor": 5
}
