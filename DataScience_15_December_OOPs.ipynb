{
 "cells": [
  {
   "cell_type": "code",
   "execution_count": 1,
   "id": "b1fce014",
   "metadata": {},
   "outputs": [],
   "source": [
    "class name:\n",
    "    pass"
   ]
  },
  {
   "cell_type": "code",
   "execution_count": 3,
   "id": "ff32fa38",
   "metadata": {},
   "outputs": [],
   "source": [
    "a=name()"
   ]
  },
  {
   "cell_type": "code",
   "execution_count": 4,
   "id": "d5ffc57e",
   "metadata": {},
   "outputs": [
    {
     "data": {
      "text/plain": [
       "__main__.name"
      ]
     },
     "execution_count": 4,
     "metadata": {},
     "output_type": "execute_result"
    }
   ],
   "source": [
    "type(a)"
   ]
  },
  {
   "cell_type": "code",
   "execution_count": 9,
   "id": "d9695251",
   "metadata": {},
   "outputs": [],
   "source": [
    "class graphic:\n",
    "    def welcomemsg(self):                        # Binding Function or Method to Class \n",
    "        print(\"Welcome to College\")"
   ]
  },
  {
   "cell_type": "code",
   "execution_count": 10,
   "id": "24b78d7b",
   "metadata": {},
   "outputs": [
    {
     "name": "stdout",
     "output_type": "stream",
     "text": [
      "Welcome to College\n"
     ]
    }
   ],
   "source": [
    "praveen=graphic()   #clreating object, variable or instance of class\n",
    "praveen.welcomemsg()"
   ]
  },
  {
   "cell_type": "code",
   "execution_count": 26,
   "id": "0e9174e9",
   "metadata": {},
   "outputs": [],
   "source": [
    "class admisson:\n",
    "    def __init__(self,enrollment,fathername,rollnumber):   #constructor\n",
    "        self.enrollment=enrollment\n",
    "        self.fathername=fathername\n",
    "        self.rollnumber=rollnumber\n",
    "        \n",
    "    def return_detail(self):\n",
    "        return self.enrollment, self.fathername, self.rollnumber\n",
    "        \n",
    "        "
   ]
  },
  {
   "cell_type": "code",
   "execution_count": 27,
   "id": "f21054d0",
   "metadata": {},
   "outputs": [],
   "source": [
    "mohan=admisson(123,\"Kumar\",45)"
   ]
  },
  {
   "cell_type": "code",
   "execution_count": 38,
   "id": "1ef462d7",
   "metadata": {},
   "outputs": [
    {
     "data": {
      "text/plain": [
       "(123, 'Kumar', 45)"
      ]
     },
     "execution_count": 38,
     "metadata": {},
     "output_type": "execute_result"
    }
   ],
   "source": [
    "mohan.return_detail()"
   ]
  },
  {
   "cell_type": "code",
   "execution_count": 40,
   "id": "f0e6c3f6",
   "metadata": {},
   "outputs": [
    {
     "data": {
      "text/plain": [
       "'Kumar'"
      ]
     },
     "execution_count": 40,
     "metadata": {},
     "output_type": "execute_result"
    }
   ],
   "source": [
    "mohan.fathername"
   ]
  },
  {
   "cell_type": "code",
   "execution_count": 33,
   "id": "a08f2beb",
   "metadata": {},
   "outputs": [],
   "source": [
    "class admisson:\n",
    "    def __init__(self,fathername):   \n",
    "       \n",
    "        self.fathername=fathername\n",
    "    \n",
    "        \n",
    "    def return_detail(self):\n",
    "        return self.fathername\n",
    "        "
   ]
  },
  {
   "cell_type": "code",
   "execution_count": 34,
   "id": "801dfa76",
   "metadata": {},
   "outputs": [],
   "source": [
    "rohan=admisson(\"Kumar\")"
   ]
  },
  {
   "cell_type": "code",
   "execution_count": 36,
   "id": "38aad154",
   "metadata": {},
   "outputs": [
    {
     "data": {
      "text/plain": [
       "'Kumar'"
      ]
     },
     "execution_count": 36,
     "metadata": {},
     "output_type": "execute_result"
    }
   ],
   "source": [
    "rohan.return_detail()"
   ]
  },
  {
   "cell_type": "code",
   "execution_count": 50,
   "id": "f7c3ffd6",
   "metadata": {},
   "outputs": [],
   "source": [
    "class marks:                                                     #Associatd Variable with class\n",
    "    def __init__(self, hindi, eng, maths, science):\n",
    "        self.shindi=hindi\n",
    "        self.seng=eng\n",
    "        self.smaths=maths\n",
    "        self.sscience=science\n",
    "        \n",
    "    def return_detail(self):\n",
    "        return self.shindi, self.seng, self.smaths, self.sscience"
   ]
  },
  {
   "cell_type": "code",
   "execution_count": 51,
   "id": "b5d8c8e7",
   "metadata": {},
   "outputs": [],
   "source": [
    "ramesh=marks(67,77,78,67)"
   ]
  },
  {
   "cell_type": "code",
   "execution_count": 49,
   "id": "e4cd0609",
   "metadata": {},
   "outputs": [
    {
     "data": {
      "text/plain": [
       "(67, 77, 78, 67)"
      ]
     },
     "execution_count": 49,
     "metadata": {},
     "output_type": "execute_result"
    }
   ],
   "source": [
    "ramesh.return_detail()"
   ]
  },
  {
   "cell_type": "markdown",
   "id": "d7a38992",
   "metadata": {},
   "source": [
    "# Self is Not A Reserved Keyword"
   ]
  },
  {
   "cell_type": "code",
   "execution_count": 53,
   "id": "e50c58a3",
   "metadata": {},
   "outputs": [],
   "source": [
    "class marks:                                                     #Associatd Variable with class\n",
    "    def __init__(my, hindi, eng, maths, science):\n",
    "        my.shindi=hindi\n",
    "        my.seng=eng\n",
    "        my.smaths=maths\n",
    "        my.sscience=science\n",
    "        \n",
    "    def return_detail(my):\n",
    "        return my.shindi, my.seng, my.smaths, my.sscience"
   ]
  },
  {
   "cell_type": "code",
   "execution_count": 55,
   "id": "9b6cc7d0",
   "metadata": {},
   "outputs": [],
   "source": [
    "rajesh=marks(45,34,23,56)"
   ]
  },
  {
   "cell_type": "code",
   "execution_count": 56,
   "id": "f56e94f5",
   "metadata": {},
   "outputs": [
    {
     "data": {
      "text/plain": [
       "(45, 34, 23, 56)"
      ]
     },
     "execution_count": 56,
     "metadata": {},
     "output_type": "execute_result"
    }
   ],
   "source": [
    "rajesh.return_detail()"
   ]
  },
  {
   "cell_type": "code",
   "execution_count": 57,
   "id": "808c0099",
   "metadata": {},
   "outputs": [
    {
     "data": {
      "text/plain": [
       "23"
      ]
     },
     "execution_count": 57,
     "metadata": {},
     "output_type": "execute_result"
    }
   ],
   "source": [
    "rajesh.smaths"
   ]
  },
  {
   "cell_type": "markdown",
   "id": "475c8a56",
   "metadata": {},
   "source": [
    "# Polymorphism"
   ]
  },
  {
   "cell_type": "code",
   "execution_count": 44,
   "id": "f8e39621",
   "metadata": {},
   "outputs": [],
   "source": [
    "class radharaman:\n",
    "     def slogan(self):\n",
    "            print(\"Jai Radha Madhav\")"
   ]
  },
  {
   "cell_type": "code",
   "execution_count": 45,
   "id": "a2556b76",
   "metadata": {},
   "outputs": [],
   "source": [
    "class radhavallabh:\n",
    "    def acharya(self):\n",
    "        print(\"Radhavallabh laal ki\")\n",
    "    def slogan(self):\n",
    "        print(\"Radhavallabh laal ki jai\")\n",
    "    "
   ]
  },
  {
   "cell_type": "code",
   "execution_count": 46,
   "id": "509ad8cb",
   "metadata": {},
   "outputs": [],
   "source": [
    "def call(request):\n",
    "    for i in request:\n",
    "        i.slogan()"
   ]
  },
  {
   "cell_type": "code",
   "execution_count": 47,
   "id": "d3c3d6e9",
   "metadata": {},
   "outputs": [],
   "source": [
    "first = radharaman()\n"
   ]
  },
  {
   "cell_type": "code",
   "execution_count": 48,
   "id": "06a77d73",
   "metadata": {},
   "outputs": [],
   "source": [
    "second=radhavallabh()"
   ]
  },
  {
   "cell_type": "code",
   "execution_count": 42,
   "id": "c0dc3e19",
   "metadata": {},
   "outputs": [],
   "source": [
    "request=[first,second]"
   ]
  },
  {
   "cell_type": "code",
   "execution_count": 43,
   "id": "4aec27d5",
   "metadata": {},
   "outputs": [
    {
     "name": "stdout",
     "output_type": "stream",
     "text": [
      "Jai Radha Madhav\n",
      "Radhavallabh laal ki jai\n"
     ]
    }
   ],
   "source": [
    "call(request)"
   ]
  },
  {
   "cell_type": "markdown",
   "id": "dce72c24",
   "metadata": {},
   "source": [
    "# Encapsulation"
   ]
  },
  {
   "cell_type": "code",
   "execution_count": 1,
   "id": "9dffdec2",
   "metadata": {},
   "outputs": [],
   "source": [
    "class mark:\n",
    "    \n",
    "    def __init__(self,a,b):\n",
    "        self.a=a\n",
    "        self.b=b"
   ]
  },
  {
   "cell_type": "code",
   "execution_count": 4,
   "id": "c5b9f038",
   "metadata": {},
   "outputs": [],
   "source": [
    "t=mark(3,6)"
   ]
  },
  {
   "cell_type": "code",
   "execution_count": 5,
   "id": "fceec6f7",
   "metadata": {},
   "outputs": [
    {
     "name": "stdout",
     "output_type": "stream",
     "text": [
      "3\n"
     ]
    }
   ],
   "source": [
    "print(t.a)"
   ]
  },
  {
   "cell_type": "code",
   "execution_count": 6,
   "id": "51c4c23e",
   "metadata": {},
   "outputs": [],
   "source": [
    "t.a=90"
   ]
  },
  {
   "cell_type": "code",
   "execution_count": 8,
   "id": "36047c67",
   "metadata": {},
   "outputs": [
    {
     "name": "stdout",
     "output_type": "stream",
     "text": [
      "90\n"
     ]
    }
   ],
   "source": [
    "print(t.a)"
   ]
  },
  {
   "cell_type": "code",
   "execution_count": 64,
   "id": "ca4ad855",
   "metadata": {},
   "outputs": [],
   "source": [
    "class cars:\n",
    "    def __init__(self, model,speed):\n",
    "        self.__model=model     # __ for hiding object\n",
    "        self.__speed=speed\n"
   ]
  },
  {
   "cell_type": "code",
   "execution_count": 65,
   "id": "f41b01f9",
   "metadata": {},
   "outputs": [],
   "source": [
    "p=cars(\"Marurti\",78)"
   ]
  },
  {
   "cell_type": "code",
   "execution_count": 66,
   "id": "10da558a",
   "metadata": {},
   "outputs": [],
   "source": [
    "q=cars(\"Safari\",-23)"
   ]
  },
  {
   "cell_type": "code",
   "execution_count": 67,
   "id": "5ade6c50",
   "metadata": {},
   "outputs": [
    {
     "ename": "AttributeError",
     "evalue": "'cars' object has no attribute '__speed'",
     "output_type": "error",
     "traceback": [
      "\u001b[1;31m---------------------------------------------------------------------------\u001b[0m",
      "\u001b[1;31mAttributeError\u001b[0m                            Traceback (most recent call last)",
      "Cell \u001b[1;32mIn [67], line 1\u001b[0m\n\u001b[1;32m----> 1\u001b[0m \u001b[43mp\u001b[49m\u001b[38;5;241;43m.\u001b[39;49m\u001b[43m__speed\u001b[49m        \u001b[38;5;66;03m#Variable cannot be access directly\u001b[39;00m\n",
      "\u001b[1;31mAttributeError\u001b[0m: 'cars' object has no attribute '__speed'"
     ]
    }
   ],
   "source": [
    "p.__speed        #Variable cannot be access directly"
   ]
  },
  {
   "cell_type": "code",
   "execution_count": 38,
   "id": "0b450625",
   "metadata": {},
   "outputs": [
    {
     "data": {
      "text/plain": [
       "78"
      ]
     },
     "execution_count": 38,
     "metadata": {},
     "output_type": "execute_result"
    }
   ],
   "source": [
    "p._cars__speed"
   ]
  },
  {
   "cell_type": "markdown",
   "id": "c78e493a",
   "metadata": {},
   "source": [
    "# Using Set and Get Methods"
   ]
  },
  {
   "cell_type": "code",
   "execution_count": 57,
   "id": "6a9cd098",
   "metadata": {},
   "outputs": [],
   "source": [
    "class vehicle:\n",
    "    def __init__(self, model,speed):\n",
    "        self.__model=model     # __ for hiding object\n",
    "        self.__speed=0\n",
    "        \n",
    "    def set_speed(self,speed):                                       #setting\n",
    "        self.__speed = 0 if speed<0 else speed\n",
    "        \n",
    "    def get_speed(self):\n",
    "        return self.__speed"
   ]
  },
  {
   "cell_type": "code",
   "execution_count": 58,
   "id": "598aef69",
   "metadata": {},
   "outputs": [],
   "source": [
    "l=vehicle(\"Toyota\",34)"
   ]
  },
  {
   "cell_type": "code",
   "execution_count": 59,
   "id": "b4b8fcdb",
   "metadata": {},
   "outputs": [],
   "source": [
    "l.set_speed(-90)"
   ]
  },
  {
   "cell_type": "code",
   "execution_count": 60,
   "id": "5640683f",
   "metadata": {},
   "outputs": [
    {
     "data": {
      "text/plain": [
       "0"
      ]
     },
     "execution_count": 60,
     "metadata": {},
     "output_type": "execute_result"
    }
   ],
   "source": [
    "l.get_speed()"
   ]
  },
  {
   "cell_type": "code",
   "execution_count": 68,
   "id": "b792da30",
   "metadata": {},
   "outputs": [],
   "source": [
    "l.set_speed(89)"
   ]
  },
  {
   "cell_type": "code",
   "execution_count": 69,
   "id": "af37bbef",
   "metadata": {},
   "outputs": [
    {
     "data": {
      "text/plain": [
       "89"
      ]
     },
     "execution_count": 69,
     "metadata": {},
     "output_type": "execute_result"
    }
   ],
   "source": [
    "l.get_speed()              #since we have used condition in the class"
   ]
  },
  {
   "cell_type": "code",
   "execution_count": 70,
   "id": "31f90f34",
   "metadata": {},
   "outputs": [],
   "source": [
    "class bankaccount:\n",
    "    def __init__(self,balance):\n",
    "        self.__balance=balance\n",
    "        \n",
    "    def deposit(self,amount):\n",
    "        self.__balance=self.__balance+amount\n",
    "    \n",
    "    def withdraw(self,amount):\n",
    "        if self.__balance >= amount:\n",
    "            self.__balance=self.__balance-amount\n",
    "            return True\n",
    "        else:\n",
    "            return False\n",
    "        \n",
    "    def get_balance(self):\n",
    "        return self.__balance\n",
    "        "
   ]
  },
  {
   "cell_type": "code",
   "execution_count": 71,
   "id": "b77c2750",
   "metadata": {},
   "outputs": [],
   "source": [
    "pr=bankaccount(4500)"
   ]
  },
  {
   "cell_type": "code",
   "execution_count": 72,
   "id": "f0e8cfb5",
   "metadata": {},
   "outputs": [],
   "source": [
    "pr.deposit(6700)"
   ]
  },
  {
   "cell_type": "code",
   "execution_count": 74,
   "id": "f9cb5e64",
   "metadata": {},
   "outputs": [
    {
     "data": {
      "text/plain": [
       "11200"
      ]
     },
     "execution_count": 74,
     "metadata": {},
     "output_type": "execute_result"
    }
   ],
   "source": [
    "pr.get_balance()"
   ]
  },
  {
   "cell_type": "code",
   "execution_count": 75,
   "id": "e7814549",
   "metadata": {},
   "outputs": [
    {
     "data": {
      "text/plain": [
       "True"
      ]
     },
     "execution_count": 75,
     "metadata": {},
     "output_type": "execute_result"
    }
   ],
   "source": [
    "pr.withdraw(3400)"
   ]
  },
  {
   "cell_type": "code",
   "execution_count": 76,
   "id": "64d885f7",
   "metadata": {},
   "outputs": [
    {
     "ename": "AttributeError",
     "evalue": "'bankaccount' object has no attribute '__balance'",
     "output_type": "error",
     "traceback": [
      "\u001b[1;31m---------------------------------------------------------------------------\u001b[0m",
      "\u001b[1;31mAttributeError\u001b[0m                            Traceback (most recent call last)",
      "Cell \u001b[1;32mIn [76], line 1\u001b[0m\n\u001b[1;32m----> 1\u001b[0m \u001b[43mpr\u001b[49m\u001b[38;5;241;43m.\u001b[39;49m\u001b[43m__balance\u001b[49m\n",
      "\u001b[1;31mAttributeError\u001b[0m: 'bankaccount' object has no attribute '__balance'"
     ]
    }
   ],
   "source": [
    "pr.__balance    # this attribute is private for class"
   ]
  },
  {
   "cell_type": "markdown",
   "id": "c187301e",
   "metadata": {},
   "source": [
    "# ***** Usecase*****"
   ]
  },
  {
   "cell_type": "code",
   "execution_count": 89,
   "id": "0b4067e1",
   "metadata": {},
   "outputs": [],
   "source": [
    "class studentfees:\n",
    "    def __init__(self,feedeposit):\n",
    "        self.__feedeposit=feedeposit\n",
    "    def examfee(self,examsfee):\n",
    "        self.__feedeposit= self.__feedeposit+examsfee\n",
    "    def showtotal(self):\n",
    "        return self.__feedeposit"
   ]
  },
  {
   "cell_type": "code",
   "execution_count": 90,
   "id": "698fd812",
   "metadata": {},
   "outputs": [],
   "source": [
    "k=studentfees(9000)"
   ]
  },
  {
   "cell_type": "code",
   "execution_count": 91,
   "id": "a2f17bd9",
   "metadata": {},
   "outputs": [
    {
     "ename": "AttributeError",
     "evalue": "'studentfees' object has no attribute '__feedeposit'",
     "output_type": "error",
     "traceback": [
      "\u001b[1;31m---------------------------------------------------------------------------\u001b[0m",
      "\u001b[1;31mAttributeError\u001b[0m                            Traceback (most recent call last)",
      "Cell \u001b[1;32mIn [91], line 1\u001b[0m\n\u001b[1;32m----> 1\u001b[0m \u001b[43mk\u001b[49m\u001b[38;5;241;43m.\u001b[39;49m\u001b[43m__feedeposit\u001b[49m(\u001b[38;5;241m900\u001b[39m)\n",
      "\u001b[1;31mAttributeError\u001b[0m: 'studentfees' object has no attribute '__feedeposit'"
     ]
    }
   ],
   "source": [
    "k.__feedeposit(900)"
   ]
  },
  {
   "cell_type": "code",
   "execution_count": 92,
   "id": "6ca59da2",
   "metadata": {},
   "outputs": [],
   "source": [
    "k.examfee(8900)"
   ]
  },
  {
   "cell_type": "code",
   "execution_count": 93,
   "id": "aeebc881",
   "metadata": {},
   "outputs": [
    {
     "data": {
      "text/plain": [
       "17900"
      ]
     },
     "execution_count": 93,
     "metadata": {},
     "output_type": "execute_result"
    }
   ],
   "source": [
    "k.showtotal()"
   ]
  },
  {
   "cell_type": "markdown",
   "id": "cbf6f7a3",
   "metadata": {},
   "source": [
    "# ********Inheritance*********"
   ]
  },
  {
   "cell_type": "code",
   "execution_count": 95,
   "id": "4bc231d3",
   "metadata": {},
   "outputs": [],
   "source": [
    "class parent:\n",
    "    def myfunc(self):\n",
    "        print(\"I am parent\")\n",
    "        \n",
    "        "
   ]
  },
  {
   "cell_type": "code",
   "execution_count": 101,
   "id": "56dffb2d",
   "metadata": {},
   "outputs": [],
   "source": [
    "class child(parent):                         #calling Parent class\n",
    "    def myfunct(self):\n",
    "        return \"Hell I am Child\""
   ]
  },
  {
   "cell_type": "code",
   "execution_count": 102,
   "id": "5e811d20",
   "metadata": {},
   "outputs": [],
   "source": [
    "obj_child=child()"
   ]
  },
  {
   "cell_type": "code",
   "execution_count": 103,
   "id": "02d7d45c",
   "metadata": {},
   "outputs": [
    {
     "data": {
      "text/plain": [
       "'Hell I am Child'"
      ]
     },
     "execution_count": 103,
     "metadata": {},
     "output_type": "execute_result"
    }
   ],
   "source": [
    "obj_child.myfunct()               "
   ]
  },
  {
   "cell_type": "code",
   "execution_count": 105,
   "id": "569dae61",
   "metadata": {},
   "outputs": [
    {
     "name": "stdout",
     "output_type": "stream",
     "text": [
      "I am parent\n"
     ]
    }
   ],
   "source": [
    "obj_child.myfunc()             #object of child class can access objet of parent class"
   ]
  },
  {
   "cell_type": "code",
   "execution_count": 106,
   "id": "65666526",
   "metadata": {},
   "outputs": [],
   "source": [
    "class grandchild(child):\n",
    "    def myfu(self):\n",
    "        return \"grandchild\""
   ]
  },
  {
   "cell_type": "markdown",
   "id": "9891473e",
   "metadata": {},
   "source": [
    "********************************* Multilevel Inheritance ********************"
   ]
  },
  {
   "cell_type": "code",
   "execution_count": 108,
   "id": "d2e793aa",
   "metadata": {},
   "outputs": [],
   "source": [
    "obj_grand=grandchild()"
   ]
  },
  {
   "cell_type": "code",
   "execution_count": 109,
   "id": "ed82e1fd",
   "metadata": {},
   "outputs": [
    {
     "data": {
      "text/plain": [
       "'grandchild'"
      ]
     },
     "execution_count": 109,
     "metadata": {},
     "output_type": "execute_result"
    }
   ],
   "source": [
    "obj_grand.myfu()"
   ]
  },
  {
   "cell_type": "code",
   "execution_count": 111,
   "id": "a2fd1d2b",
   "metadata": {},
   "outputs": [
    {
     "name": "stdout",
     "output_type": "stream",
     "text": [
      "I am parent\n"
     ]
    }
   ],
   "source": [
    "obj_grand.myfunc()"
   ]
  },
  {
   "cell_type": "code",
   "execution_count": 112,
   "id": "41de8a26",
   "metadata": {},
   "outputs": [
    {
     "data": {
      "text/plain": [
       "'Hell I am Child'"
      ]
     },
     "execution_count": 112,
     "metadata": {},
     "output_type": "execute_result"
    }
   ],
   "source": [
    "obj_grand.myfunct()                        "
   ]
  },
  {
   "cell_type": "markdown",
   "id": "fce17bf9",
   "metadata": {},
   "source": [
    "************************Multiple Inheritance**************"
   ]
  },
  {
   "cell_type": "code",
   "execution_count": 126,
   "id": "c5bb62ab",
   "metadata": {},
   "outputs": [],
   "source": [
    "class class1:\n",
    "    def mymgg(self):\n",
    "        return \"I am Class1\""
   ]
  },
  {
   "cell_type": "code",
   "execution_count": 127,
   "id": "9e55864a",
   "metadata": {},
   "outputs": [],
   "source": [
    "class class2:\n",
    "    def mymsg(self):\n",
    "        return \"I am Class2\""
   ]
  },
  {
   "cell_type": "code",
   "execution_count": 128,
   "id": "71b3878e",
   "metadata": {},
   "outputs": [],
   "source": [
    "class class3(class1, class2):\n",
    "    def mymg(self):\n",
    "        return \"I am class3 Inherting Both class1 and class2\""
   ]
  },
  {
   "cell_type": "code",
   "execution_count": 129,
   "id": "d9812cbe",
   "metadata": {},
   "outputs": [],
   "source": [
    "obj_class3=class3()"
   ]
  },
  {
   "cell_type": "code",
   "execution_count": 130,
   "id": "26d77719",
   "metadata": {},
   "outputs": [
    {
     "data": {
      "text/plain": [
       "'I am Class2'"
      ]
     },
     "execution_count": 130,
     "metadata": {},
     "output_type": "execute_result"
    }
   ],
   "source": [
    "obj_class3.mymsg()"
   ]
  },
  {
   "cell_type": "code",
   "execution_count": 131,
   "id": "7030d7de",
   "metadata": {},
   "outputs": [
    {
     "data": {
      "text/plain": [
       "'I am Class1'"
      ]
     },
     "execution_count": 131,
     "metadata": {},
     "output_type": "execute_result"
    }
   ],
   "source": [
    "obj_class3.mymgg()"
   ]
  },
  {
   "cell_type": "code",
   "execution_count": 132,
   "id": "b5c7386c",
   "metadata": {},
   "outputs": [
    {
     "data": {
      "text/plain": [
       "'I am class3 Inherting Both class1 and class2'"
      ]
     },
     "execution_count": 132,
     "metadata": {},
     "output_type": "execute_result"
    }
   ],
   "source": [
    "obj_class3.mymg()"
   ]
  },
  {
   "cell_type": "markdown",
   "id": "173041ca",
   "metadata": {},
   "source": [
    "# Abstraction"
   ]
  },
  {
   "cell_type": "code",
   "execution_count": 133,
   "id": "224d22d0",
   "metadata": {},
   "outputs": [],
   "source": [
    "import abc"
   ]
  },
  {
   "cell_type": "code",
   "execution_count": 151,
   "id": "90978d50",
   "metadata": {},
   "outputs": [],
   "source": [
    "class graphic:\n",
    "    @abc.abstractmethod\n",
    "    def firstsem(self):\n",
    "        pass\n",
    "    @abc.abstractmethod\n",
    "    def secondsem(self):\n",
    "        pass"
   ]
  },
  {
   "cell_type": "code",
   "execution_count": 152,
   "id": "8bd3a925",
   "metadata": {},
   "outputs": [],
   "source": [
    "class bca(graphic):\n",
    "    def firstsem(self):\n",
    "        return \"Subjet are not common\"\n",
    "    def secondsem(self):\n",
    "        return \"Subject - Data Structures\""
   ]
  },
  {
   "cell_type": "code",
   "execution_count": 153,
   "id": "910106ab",
   "metadata": {},
   "outputs": [],
   "source": [
    "class btech(graphic):\n",
    "    def firstsem(self):\n",
    "        return \"Subjet are common\"\n",
    "    def secondsem(self):\n",
    "        return \"Subject - PCM still there\""
   ]
  },
  {
   "cell_type": "code",
   "execution_count": 154,
   "id": "56ad1789",
   "metadata": {},
   "outputs": [
    {
     "data": {
      "text/plain": [
       "'Subjet are not common'"
      ]
     },
     "execution_count": 154,
     "metadata": {},
     "output_type": "execute_result"
    }
   ],
   "source": [
    "nature=bca()\n",
    "nature.firstsem()"
   ]
  },
  {
   "cell_type": "code",
   "execution_count": 155,
   "id": "2e19a026",
   "metadata": {},
   "outputs": [
    {
     "data": {
      "text/plain": [
       "'Subjet are common'"
      ]
     },
     "execution_count": 155,
     "metadata": {},
     "output_type": "execute_result"
    }
   ],
   "source": [
    "nature1=btech()\n",
    "nature1.firstsem()"
   ]
  },
  {
   "cell_type": "markdown",
   "id": "3bbc13a1",
   "metadata": {},
   "source": [
    "# Decorators"
   ]
  },
  {
   "cell_type": "code",
   "execution_count": 2,
   "id": "d7860846",
   "metadata": {},
   "outputs": [],
   "source": [
    "def deco_func(passed):\n",
    "    def inner():\n",
    "        print(\"hii.. this is start of function\")\n",
    "        passed()\n",
    "        print(\"This is end of the function\")\n",
    "    return inner()"
   ]
  },
  {
   "cell_type": "code",
   "execution_count": 3,
   "id": "69a2b39c",
   "metadata": {},
   "outputs": [
    {
     "name": "stdout",
     "output_type": "stream",
     "text": [
      "hii.. this is start of function\n",
      "6\n",
      "This is end of the function\n"
     ]
    }
   ],
   "source": [
    "@deco_func\n",
    "def add():\n",
    "    print(2+4)\n"
   ]
  },
  {
   "cell_type": "code",
   "execution_count": 15,
   "id": "b55e798d",
   "metadata": {},
   "outputs": [],
   "source": [
    "import time\n",
    "def deco_time(fun):\n",
    "    def inner_fu ():\n",
    "        start=time.time()\n",
    "        fun()\n",
    "        end= time.time()\n",
    "        print(end-start)\n",
    "    return inner_fu\n",
    "        \n",
    "        "
   ]
  },
  {
   "cell_type": "code",
   "execution_count": 16,
   "id": "58c8f3d0",
   "metadata": {},
   "outputs": [],
   "source": [
    "@deco_time\n",
    "def funi():\n",
    "    print(\"hiii\")"
   ]
  },
  {
   "cell_type": "code",
   "execution_count": 17,
   "id": "db43de23",
   "metadata": {},
   "outputs": [
    {
     "name": "stdout",
     "output_type": "stream",
     "text": [
      "hiii\n",
      "0.0002841949462890625\n"
     ]
    }
   ],
   "source": [
    "funi()"
   ]
  },
  {
   "cell_type": "markdown",
   "id": "8ec6567a",
   "metadata": {},
   "source": [
    "# Class Methods"
   ]
  },
  {
   "cell_type": "code",
   "execution_count": 20,
   "id": "76b92d3f",
   "metadata": {},
   "outputs": [],
   "source": [
    "class student_ad:\n",
    "    def __init__(self, name, adnumber):\n",
    "        self.name= name\n",
    "        self.adnumber=adnumber\n",
    "    def give_details(self):\n",
    "        print(self.name,self.adnumber)"
   ]
  },
  {
   "cell_type": "code",
   "execution_count": 21,
   "id": "7062520c",
   "metadata": {},
   "outputs": [],
   "source": [
    "st=student_ad('Rajesh',1234)\n"
   ]
  },
  {
   "cell_type": "code",
   "execution_count": 22,
   "id": "6fd4633f",
   "metadata": {},
   "outputs": [
    {
     "data": {
      "text/plain": [
       "'Rajesh'"
      ]
     },
     "execution_count": 22,
     "metadata": {},
     "output_type": "execute_result"
    }
   ],
   "source": [
    "st.name"
   ]
  },
  {
   "cell_type": "code",
   "execution_count": 23,
   "id": "102d0e9a",
   "metadata": {},
   "outputs": [
    {
     "data": {
      "text/plain": [
       "1234"
      ]
     },
     "execution_count": 23,
     "metadata": {},
     "output_type": "execute_result"
    }
   ],
   "source": [
    "st.adnumber"
   ]
  },
  {
   "cell_type": "code",
   "execution_count": 18,
   "id": "b8c17ca7",
   "metadata": {},
   "outputs": [
    {
     "name": "stdout",
     "output_type": "stream",
     "text": [
      "Rajesh 1234\n"
     ]
    }
   ],
   "source": [
    "st.give_details()"
   ]
  },
  {
   "cell_type": "code",
   "execution_count": 24,
   "id": "01fc4440",
   "metadata": {},
   "outputs": [],
   "source": [
    "class student_add:\n",
    "    def __init__(self, name, adnumber):\n",
    "        self.name= name\n",
    "        self.adnumber=adnumber\n",
    "    def give_details(self):\n",
    "        print(self.name,self.adnumber)\n",
    "    \n",
    "    @classmethod\n",
    "    def details(cls, name, adnumber):\n",
    "        return cls(name, adnumber)\n",
    "        "
   ]
  },
  {
   "cell_type": "code",
   "execution_count": 27,
   "id": "d694f019",
   "metadata": {},
   "outputs": [],
   "source": [
    " pk=student_add.details('pra',234) #without creating object"
   ]
  },
  {
   "cell_type": "code",
   "execution_count": 28,
   "id": "039f5df5",
   "metadata": {},
   "outputs": [
    {
     "data": {
      "text/plain": [
       "'pra'"
      ]
     },
     "execution_count": 28,
     "metadata": {},
     "output_type": "execute_result"
    }
   ],
   "source": [
    "pk.name"
   ]
  },
  {
   "cell_type": "code",
   "execution_count": 32,
   "id": "0b62dd8a",
   "metadata": {},
   "outputs": [],
   "source": [
    "def newcomer(cls,newone):\n",
    "    print(newone,\"is the newcomer\")"
   ]
  },
  {
   "cell_type": "code",
   "execution_count": 33,
   "id": "538ccf39",
   "metadata": {},
   "outputs": [],
   "source": [
    "student_add.newcomer=classmethod(newcomer)"
   ]
  },
  {
   "cell_type": "code",
   "execution_count": 34,
   "id": "45fb524a",
   "metadata": {},
   "outputs": [
    {
     "name": "stdout",
     "output_type": "stream",
     "text": [
      "Rakesh is the newcomer\n"
     ]
    }
   ],
   "source": [
    "student_add.newcomer('Rakesh')"
   ]
  },
  {
   "cell_type": "markdown",
   "id": "82b5316a",
   "metadata": {},
   "source": [
    "\n",
    "# *Function*"
   ]
  },
  {
   "cell_type": "code",
   "execution_count": 6,
   "id": "469bb29b",
   "metadata": {},
   "outputs": [
    {
     "name": "stdout",
     "output_type": "stream",
     "text": [
      "Before calling fun2:100\n",
      "Calling Fun2 Now\n",
      "After calling fun2:100\n",
      "x in main200\n"
     ]
    }
   ],
   "source": [
    "def fun1():\n",
    "    x=100\n",
    "    def fun2():\n",
    "        global x\n",
    "        x=200\n",
    "    print(\"Before calling fun2:\"+str(x))  # this statement is outside fun2, thus taking x as 100\n",
    "    print(\"Calling Fun2 Now\")\n",
    "    fun2()\n",
    "    print(\"After calling fun2:\"+str(x))\n",
    "fun1()\n",
    "print(\"x in main\"+str(x))\n",
    "    "
   ]
  },
  {
   "cell_type": "code",
   "execution_count": 7,
   "id": "abc98c67",
   "metadata": {},
   "outputs": [
    {
     "name": "stdout",
     "output_type": "stream",
     "text": [
      "Before calling fun2:200\n",
      "Calling Fun2 Now\n",
      "After calling fun2:200\n",
      "x in main200\n"
     ]
    }
   ],
   "source": [
    "def fun1():\n",
    "    x=100\n",
    "def fun2():\n",
    "    global x\n",
    "    x=200\n",
    "print(\"Before calling fun2:\"+str(x))\n",
    "print(\"Calling Fun2 Now\")\n",
    "fun2()\n",
    "print(\"After calling fun2:\"+str(x))   \n",
    "fun1()\n",
    "print(\"x in main\"+str(x))"
   ]
  },
  {
   "cell_type": "markdown",
   "id": "1dbc982c",
   "metadata": {},
   "source": [
    "# Dunder Function"
   ]
  },
  {
   "cell_type": "code",
   "execution_count": 1,
   "id": "5d39c477",
   "metadata": {},
   "outputs": [
    {
     "data": {
      "text/plain": [
       "['__abs__',\n",
       " '__add__',\n",
       " '__and__',\n",
       " '__bool__',\n",
       " '__ceil__',\n",
       " '__class__',\n",
       " '__delattr__',\n",
       " '__dir__',\n",
       " '__divmod__',\n",
       " '__doc__',\n",
       " '__eq__',\n",
       " '__float__',\n",
       " '__floor__',\n",
       " '__floordiv__',\n",
       " '__format__',\n",
       " '__ge__',\n",
       " '__getattribute__',\n",
       " '__getnewargs__',\n",
       " '__getstate__',\n",
       " '__gt__',\n",
       " '__hash__',\n",
       " '__index__',\n",
       " '__init__',\n",
       " '__init_subclass__',\n",
       " '__int__',\n",
       " '__invert__',\n",
       " '__le__',\n",
       " '__lshift__',\n",
       " '__lt__',\n",
       " '__mod__',\n",
       " '__mul__',\n",
       " '__ne__',\n",
       " '__neg__',\n",
       " '__new__',\n",
       " '__or__',\n",
       " '__pos__',\n",
       " '__pow__',\n",
       " '__radd__',\n",
       " '__rand__',\n",
       " '__rdivmod__',\n",
       " '__reduce__',\n",
       " '__reduce_ex__',\n",
       " '__repr__',\n",
       " '__rfloordiv__',\n",
       " '__rlshift__',\n",
       " '__rmod__',\n",
       " '__rmul__',\n",
       " '__ror__',\n",
       " '__round__',\n",
       " '__rpow__',\n",
       " '__rrshift__',\n",
       " '__rshift__',\n",
       " '__rsub__',\n",
       " '__rtruediv__',\n",
       " '__rxor__',\n",
       " '__setattr__',\n",
       " '__sizeof__',\n",
       " '__str__',\n",
       " '__sub__',\n",
       " '__subclasshook__',\n",
       " '__truediv__',\n",
       " '__trunc__',\n",
       " '__xor__',\n",
       " 'as_integer_ratio',\n",
       " 'bit_count',\n",
       " 'bit_length',\n",
       " 'conjugate',\n",
       " 'denominator',\n",
       " 'from_bytes',\n",
       " 'imag',\n",
       " 'numerator',\n",
       " 'real',\n",
       " 'to_bytes']"
      ]
     },
     "execution_count": 1,
     "metadata": {},
     "output_type": "execute_result"
    }
   ],
   "source": [
    "dir(int)               #Magic Functions"
   ]
  },
  {
   "cell_type": "code",
   "execution_count": 2,
   "id": "c2cac7d7",
   "metadata": {},
   "outputs": [],
   "source": [
    "b=10"
   ]
  },
  {
   "cell_type": "code",
   "execution_count": 3,
   "id": "a6271ad5",
   "metadata": {},
   "outputs": [
    {
     "data": {
      "text/plain": [
       "16"
      ]
     },
     "execution_count": 3,
     "metadata": {},
     "output_type": "execute_result"
    }
   ],
   "source": [
    "b.__add__(6)"
   ]
  },
  {
   "cell_type": "code",
   "execution_count": 5,
   "id": "df8928fb",
   "metadata": {},
   "outputs": [],
   "source": [
    "class record:\n",
    "    def __init__(elf):\n",
    "        elf.mobnum=6789"
   ]
  },
  {
   "cell_type": "code",
   "execution_count": 6,
   "id": "dbff2ec6",
   "metadata": {},
   "outputs": [],
   "source": [
    "new=record()"
   ]
  },
  {
   "cell_type": "code",
   "execution_count": 7,
   "id": "35b1be02",
   "metadata": {},
   "outputs": [
    {
     "data": {
      "text/plain": [
       "6789"
      ]
     },
     "execution_count": 7,
     "metadata": {},
     "output_type": "execute_result"
    }
   ],
   "source": [
    "new.mobnum"
   ]
  },
  {
   "cell_type": "code",
   "execution_count": 11,
   "id": "68bc61a8",
   "metadata": {},
   "outputs": [],
   "source": [
    "class record2:\n",
    "    \n",
    "    def __new__(cls):\n",
    "        print(\"Getting called\")\n",
    "        \n",
    "    def __init__(elf):\n",
    "        elf.mobnum=6789"
   ]
  },
  {
   "cell_type": "code",
   "execution_count": 12,
   "id": "1ae530f7",
   "metadata": {},
   "outputs": [
    {
     "name": "stdout",
     "output_type": "stream",
     "text": [
      "Getting called\n"
     ]
    }
   ],
   "source": [
    "p=record2()"
   ]
  },
  {
   "cell_type": "code",
   "execution_count": 13,
   "id": "4556e182",
   "metadata": {},
   "outputs": [
    {
     "ename": "AttributeError",
     "evalue": "'NoneType' object has no attribute 'mobnum'",
     "output_type": "error",
     "traceback": [
      "\u001b[1;31m---------------------------------------------------------------------------\u001b[0m",
      "\u001b[1;31mAttributeError\u001b[0m                            Traceback (most recent call last)",
      "Cell \u001b[1;32mIn [13], line 1\u001b[0m\n\u001b[1;32m----> 1\u001b[0m \u001b[43mp\u001b[49m\u001b[38;5;241;43m.\u001b[39;49m\u001b[43mmobnum\u001b[49m\n",
      "\u001b[1;31mAttributeError\u001b[0m: 'NoneType' object has no attribute 'mobnum'"
     ]
    }
   ],
   "source": [
    "p.mobnum"
   ]
  },
  {
   "cell_type": "code",
   "execution_count": 14,
   "id": "325acfc0",
   "metadata": {},
   "outputs": [],
   "source": [
    "class record3:\n",
    "    \n",
    "\n",
    "        \n",
    "    def __init__(elf):\n",
    "        elf.mobnum=678945\n",
    "    \n",
    "    def __str__(self):\n",
    "        return \"my magic function\""
   ]
  },
  {
   "cell_type": "code",
   "execution_count": 15,
   "id": "2d2b2f15",
   "metadata": {},
   "outputs": [],
   "source": [
    "po=record3()"
   ]
  },
  {
   "cell_type": "code",
   "execution_count": 16,
   "id": "c3501ca8",
   "metadata": {},
   "outputs": [
    {
     "data": {
      "text/plain": [
       "<__main__.record3 at 0x2c6f3804750>"
      ]
     },
     "execution_count": 16,
     "metadata": {},
     "output_type": "execute_result"
    }
   ],
   "source": [
    "po"
   ]
  },
  {
   "cell_type": "code",
   "execution_count": 17,
   "id": "6fbc9665",
   "metadata": {},
   "outputs": [
    {
     "name": "stdout",
     "output_type": "stream",
     "text": [
      "my magic function\n"
     ]
    }
   ],
   "source": [
    "print(po)      #Magic function for printing string for an object"
   ]
  },
  {
   "cell_type": "code",
   "execution_count": null,
   "id": "848af676",
   "metadata": {},
   "outputs": [],
   "source": []
  }
 ],
 "metadata": {
  "kernelspec": {
   "display_name": "Python 3 (ipykernel)",
   "language": "python",
   "name": "python3"
  },
  "language_info": {
   "codemirror_mode": {
    "name": "ipython",
    "version": 3
   },
   "file_extension": ".py",
   "mimetype": "text/x-python",
   "name": "python",
   "nbconvert_exporter": "python",
   "pygments_lexer": "ipython3",
   "version": "3.11.0"
  }
 },
 "nbformat": 4,
 "nbformat_minor": 5
}
